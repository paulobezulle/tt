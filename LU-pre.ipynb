{
  "nbformat": 4,
  "nbformat_minor": 0,
  "metadata": {
    "colab": {
      "name": "Untitled7.ipynb",
      "provenance": [],
      "collapsed_sections": [],
      "authorship_tag": "ABX9TyOo3K/VcMlO4V0Rtl/BJxK+",
      "include_colab_link": true
    },
    "kernelspec": {
      "name": "python3",
      "display_name": "Python 3"
    },
    "language_info": {
      "name": "python"
    }
  },
  "cells": [
    {
      "cell_type": "markdown",
      "metadata": {
        "id": "view-in-github",
        "colab_type": "text"
      },
      "source": [
        "<a href=\"https://colab.research.google.com/github/paulobezulle/tt/blob/main/LU-pre.ipynb\" target=\"_parent\"><img src=\"https://colab.research.google.com/assets/colab-badge.svg\" alt=\"Open In Colab\"/></a>"
      ]
    },
    {
      "cell_type": "code",
      "execution_count": 1,
      "metadata": {
        "id": "ma-9isWqKFR5"
      },
      "outputs": [],
      "source": [
        "import numpy as np\n",
        "import scipy.linalg as la\n",
        "np.set_printoptions(precision=2, suppress=True)"
      ]
    },
    {
      "cell_type": "code",
      "source": [
        "def troca_linha(A,e,f):\n",
        "    A[[e,f],:]=A[[f,e],:]\n",
        "    #print('troca %d com %d'%(e,f))\n",
        "def max_in_col (M, pivot_ix):\n",
        "    nlin=M.shape[0]\n",
        "    ncol=M.shape[1]\n",
        "    val = 0\n",
        "    ix = -1\n",
        "    for i in range(pivot_ix,nlin):\n",
        "        if abs(M[i,pivot_ix]) > val:\n",
        "            val = abs(M[i,pivot_ix])\n",
        "            ix = i\n",
        "    return ix"
      ],
      "metadata": {
        "id": "G0RZ1ZoMdHCz"
      },
      "execution_count": 2,
      "outputs": []
    },
    {
      "cell_type": "code",
      "source": [
        "M=np.random.rand(5,5);display(M)\n",
        "(P, L, U) = la.lu(M)\n",
        "print(U)\n",
        "print(P.T)"
      ],
      "metadata": {
        "colab": {
          "base_uri": "https://localhost:8080/",
          "height": 278
        },
        "id": "GrGNM6b-ZlSj",
        "outputId": "a0b2acf2-8e53-40cd-d376-c5092a9345a8"
      },
      "execution_count": 7,
      "outputs": [
        {
          "output_type": "display_data",
          "data": {
            "text/plain": [
              "array([[0.39, 0.45, 0.77, 0.5 , 0.52],\n",
              "       [0.84, 0.85, 0.56, 0.52, 0.46],\n",
              "       [0.51, 0.49, 0.68, 0.06, 0.09],\n",
              "       [0.81, 0.62, 0.07, 0.52, 0.75],\n",
              "       [0.37, 0.96, 0.66, 0.93, 0.57]])"
            ]
          },
          "metadata": {}
        },
        {
          "output_type": "stream",
          "name": "stdout",
          "text": [
            "[[0.84 0.85 0.56 0.52 0.46]\n",
            " [0.   0.59 0.42 0.7  0.37]\n",
            " [0.   0.   0.47 0.19 0.27]\n",
            " [0.   0.   0.   0.39 0.62]\n",
            " [0.   0.   0.   0.   0.22]]\n",
            "[[0. 1. 0. 0. 0.]\n",
            " [0. 0. 0. 0. 1.]\n",
            " [1. 0. 0. 0. 0.]\n",
            " [0. 0. 0. 1. 0.]\n",
            " [0. 0. 1. 0. 0.]]\n"
          ]
        }
      ]
    },
    {
      "cell_type": "code",
      "source": [
        "print(L)#@U);print(P.T@M)"
      ],
      "metadata": {
        "colab": {
          "base_uri": "https://localhost:8080/"
        },
        "id": "O2rhVz4-YdlX",
        "outputId": "68482ed2-1cba-42e8-9308-77d1f7644d1e"
      },
      "execution_count": 11,
      "outputs": [
        {
          "output_type": "stream",
          "name": "stdout",
          "text": [
            "[[ 1.    0.    0.    0.    0.  ]\n",
            " [ 0.43  1.    0.    0.    0.  ]\n",
            " [ 0.46  0.11  1.    0.    0.  ]\n",
            " [ 0.97 -0.35 -0.69  1.    0.  ]\n",
            " [ 0.6  -0.03  0.76 -0.96  1.  ]]\n"
          ]
        }
      ]
    },
    {
      "cell_type": "code",
      "source": [
        "def lu(A):\n",
        "    nlin=A.shape[0]\n",
        "    ncol=A.shape[1]\n",
        "    I = np.identity(nlin)\n",
        "    P = np.copy(I)\n",
        "    L = np.zeros((nlin,nlin))\n",
        "    print(L)\n",
        "    U = np.copy(A)\n",
        "    for pivot_ix in range(0, ncol):\n",
        "        ix_max = max_in_col(U,pivot_ix)\n",
        "        if ix_max != pivot_ix:\n",
        "            troca_linha(U,pivot_ix,ix_max)\n",
        "            troca_linha(P,pivot_ix,ix_max)\n",
        "            troca_linha(L,pivot_ix,ix_max)\n",
        "\n",
        "        pivot = U[pivot_ix, pivot_ix]\n",
        "        for i in range(pivot_ix+1, nlin):\n",
        "            cabeca = U[i,pivot_ix]\n",
        "            L[i,pivot_ix] = cabeca/pivot\n",
        "            for k in range(pivot_ix, ncol):\n",
        "                U[i,k] = U[i,k] - U[pivot_ix, k]*cabeca/pivot\n",
        "    L = L + I\n",
        "    return P, L, U\n",
        "(PP,LL,UU)=lu(M)\n",
        "print(PP)\n",
        "print(LL)\n",
        "print(UU)\n",
        "print(np.allclose(U,UU),np.allclose(P.T,PP))"
      ],
      "metadata": {
        "colab": {
          "base_uri": "https://localhost:8080/"
        },
        "id": "trEPla358dpF",
        "outputId": "8ade4d4c-6c23-4bfb-9beb-a627d4db9b5e"
      },
      "execution_count": 15,
      "outputs": [
        {
          "output_type": "stream",
          "name": "stdout",
          "text": [
            "[[0. 0. 0. 0. 0.]\n",
            " [0. 0. 0. 0. 0.]\n",
            " [0. 0. 0. 0. 0.]\n",
            " [0. 0. 0. 0. 0.]\n",
            " [0. 0. 0. 0. 0.]]\n",
            "[[0. 1. 0. 0. 0.]\n",
            " [0. 0. 0. 0. 1.]\n",
            " [1. 0. 0. 0. 0.]\n",
            " [0. 0. 0. 1. 0.]\n",
            " [0. 0. 1. 0. 0.]]\n",
            "[[ 1.    0.    0.    0.    0.  ]\n",
            " [ 0.43  1.    0.    0.    0.  ]\n",
            " [ 0.46  0.11  1.    0.    0.  ]\n",
            " [ 0.97 -0.35 -0.69  1.    0.  ]\n",
            " [ 0.6  -0.03  0.76 -0.96  1.  ]]\n",
            "[[ 0.84  0.85  0.56  0.52  0.46]\n",
            " [ 0.    0.59  0.42  0.7   0.37]\n",
            " [ 0.    0.    0.47  0.19  0.27]\n",
            " [-0.    0.    0.    0.39  0.62]\n",
            " [ 0.    0.    0.   -0.    0.22]]\n",
            "True True\n"
          ]
        }
      ]
    },
    {
      "cell_type": "code",
      "source": [
        "print(P@M)"
      ],
      "metadata": {
        "id": "-V0cqBbTlQUq",
        "colab": {
          "base_uri": "https://localhost:8080/"
        },
        "outputId": "c66ff365-a21a-4d5b-9ecd-3b667aac2579"
      },
      "execution_count": null,
      "outputs": [
        {
          "output_type": "stream",
          "name": "stdout",
          "text": [
            "[[0.39 0.98 0.69 0.47 0.32]\n",
            " [0.5  0.08 0.08 0.83 0.22]\n",
            " [0.59 0.9  0.7  0.79 0.53]\n",
            " [0.6  0.1  0.94 0.82 0.24]\n",
            " [0.39 0.73 0.83 0.47 0.79]]\n"
          ]
        }
      ]
    },
    {
      "cell_type": "code",
      "source": [
        "M"
      ],
      "metadata": {
        "colab": {
          "base_uri": "https://localhost:8080/"
        },
        "id": "hoFTlYwukgyt",
        "outputId": "51417910-198d-48a7-d037-815c9eec289d"
      },
      "execution_count": null,
      "outputs": [
        {
          "output_type": "execute_result",
          "data": {
            "text/plain": [
              "array([[0.41, 0.57, 0.64, 0.47, 1.  , 0.42, 0.53, 0.94, 0.13, 0.7 ],\n",
              "       [0.97, 0.17, 0.35, 0.24, 0.08, 0.13, 0.52, 0.76, 0.28, 0.57],\n",
              "       [0.26, 0.46, 0.14, 0.88, 0.31, 0.35, 0.16, 0.86, 0.34, 0.72],\n",
              "       [0.62, 0.46, 0.6 , 0.08, 0.41, 0.94, 0.42, 0.67, 0.15, 0.41],\n",
              "       [0.89, 0.47, 0.63, 0.5 , 0.47, 0.3 , 0.19, 0.01, 0.59, 0.65],\n",
              "       [0.22, 0.37, 0.32, 0.84, 0.87, 0.41, 0.15, 0.27, 0.35, 0.27],\n",
              "       [0.26, 0.97, 0.75, 0.83, 0.34, 0.67, 0.33, 0.18, 0.24, 0.02],\n",
              "       [0.46, 0.77, 0.76, 0.04, 0.59, 0.37, 0.41, 0.93, 0.7 , 0.85],\n",
              "       [0.95, 0.43, 0.56, 0.82, 0.7 , 0.93, 0.71, 0.86, 0.95, 0.04],\n",
              "       [0.74, 0.97, 0.68, 0.94, 0.04, 0.12, 0.55, 0.19, 0.58, 0.55]])"
            ]
          },
          "metadata": {},
          "execution_count": 6
        }
      ]
    },
    {
      "cell_type": "code",
      "source": [
        "def invTI(A):\n",
        "    lin=A.shape[0]\n",
        "    col=A.shape[1]\n",
        "    \n",
        "    I=np.eye(lin)\n",
        "    X=np.zeros((lin,lin))\n",
        "\n",
        "    for j in range(col):\n",
        "        for i in range(lin):\n",
        "            soma = 0\n",
        "            for k in range(i):\n",
        "                soma = soma + A[i,k]*X[k,j]\n",
        "            print(I[i,j],-1*soma,A[i,i])\n",
        "            X[i,j] = (I[i,j] - soma) / A[i,i]\n",
        "    return X"
      ],
      "metadata": {
        "id": "8FtFqCadMTx_"
      },
      "execution_count": null,
      "outputs": []
    },
    {
      "cell_type": "code",
      "source": [
        "def invTS(A):\n",
        "    lin=A.shape[0]\n",
        "    col=A.shape[1]\n",
        "    \n",
        "    I=np.eye(lin)\n",
        "    X=np.zeros((lin,lin))\n",
        "\n",
        "    for j in range(col-1, -1, -1):\n",
        "        for i in range(lin-1, -1, -1):\n",
        "            soma = 0\n",
        "            for k in range(lin-1, i, -1):\n",
        "                soma = soma + A[i,k]*X[k,j]\n",
        "            print(I[i,j],-1*soma,A[i,i])\n",
        "            X[i,j] = (I[i,j] - soma) / A[i,i]\n",
        "    return X"
      ],
      "metadata": {
        "id": "GAbT6Hn1dwNd"
      },
      "execution_count": null,
      "outputs": []
    },
    {
      "cell_type": "code",
      "source": [
        "A=np.triu(np.random.rand(10,10))"
      ],
      "metadata": {
        "id": "nEb2pybwaBSu"
      },
      "execution_count": null,
      "outputs": []
    },
    {
      "cell_type": "code",
      "source": [
        "B = invTS(A)"
      ],
      "metadata": {
        "colab": {
          "base_uri": "https://localhost:8080/"
        },
        "id": "ebscf1hLaGTk",
        "outputId": "8d5e0dd0-f923-4d15-fe9d-39dd5a2d2aed"
      },
      "execution_count": null,
      "outputs": [
        {
          "output_type": "stream",
          "name": "stdout",
          "text": [
            "1.0 0 0.6738170357952293\n",
            "0.0 -0.8489041671032509 0.08784200443751045\n",
            "0.0 7.188481401028204 0.3917355826213451\n",
            "0.0 0.5249890087819034 0.8185259282366645\n",
            "0.0 -14.471226571850927 0.08555417576768354\n",
            "0.0 141.67849482141426 0.3159546968757081\n",
            "0.0 -128.9444704690053 0.1228929678801165\n",
            "0.0 626.0675917113064 0.33375840608833784\n",
            "0.0 -868.3601332049151 0.4807198468217475\n",
            "0.0 516.7731726765961 0.4632992983299238\n",
            "0.0 0 0.6738170357952293\n",
            "1.0 -0.0 0.08784200443751045\n",
            "0.0 -9.483724052986535 0.3917355826213451\n",
            "0.0 -1.6986773818826375 0.8185259282366645\n",
            "0.0 19.398664927179894 0.08555417576768354\n",
            "0.0 -189.69759126938317 0.3159546968757081\n",
            "0.0 174.15277768277178 0.1228929678801165\n",
            "0.0 -848.5543599576745 0.33375840608833784\n",
            "0.0 1180.1011546280397 0.4807198468217475\n",
            "0.0 -704.2134092171101 0.4632992983299238\n",
            "0.0 0 0.6738170357952293\n",
            "0.0 -0.0 0.08784200443751045\n",
            "1.0 -0.0 0.3917355826213451\n",
            "0.0 -0.43423776249604423 0.8185259282366645\n",
            "0.0 -1.711030173814689 0.08555417576768354\n",
            "0.0 16.50880694525431 0.3159546968757081\n",
            "0.0 -15.82001616309075 0.1228929678801165\n",
            "0.0 77.73907098572384 0.33375840608833784\n",
            "0.0 -109.13499178816033 0.4807198468217475\n",
            "0.0 65.92722184468016 0.4632992983299238\n",
            "0.0 0 0.6738170357952293\n",
            "0.0 -0.0 0.08784200443751045\n",
            "0.0 -0.0 0.3917355826213451\n",
            "1.0 -0.0 0.8185259282366645\n",
            "0.0 -1.158235692066205 0.08555417576768354\n",
            "0.0 11.395156263285044 0.3159546968757081\n",
            "0.0 -10.880249877426941 0.1228929678801165\n",
            "0.0 53.88631421623923 0.33375840608833784\n",
            "0.0 -76.63197661451514 0.4807198468217475\n",
            "0.0 46.48925574537805 0.4632992983299238\n",
            "0.0 0 0.6738170357952293\n",
            "0.0 -0.0 0.08784200443751045\n",
            "0.0 -0.0 0.3917355826213451\n",
            "0.0 -0.0 0.8185259282366645\n",
            "1.0 -0.0 0.08555417576768354\n",
            "0.0 -10.591101501896864 0.3159546968757081\n",
            "0.0 9.945966117353654 0.1228929678801165\n",
            "0.0 -48.71572593637633 0.33375840608833784\n",
            "0.0 68.9465826764302 0.4807198468217475\n",
            "0.0 -41.91676562719213 0.4632992983299238\n",
            "0.0 0 0.6738170357952293\n",
            "0.0 -0.0 0.08784200443751045\n",
            "0.0 -0.0 0.3917355826213451\n",
            "0.0 -0.0 0.8185259282366645\n",
            "0.0 -0.0 0.08555417576768354\n",
            "1.0 -0.0 0.3159546968757081\n",
            "0.0 -1.4108269533413689 0.1228929678801165\n",
            "0.0 6.452542579761986 0.33375840608833784\n",
            "0.0 -9.094321881208568 0.4807198468217475\n",
            "0.0 6.062153430354943 0.4632992983299238\n",
            "0.0 0 0.6738170357952293\n",
            "0.0 -0.0 0.08784200443751045\n",
            "0.0 -0.0 0.3917355826213451\n",
            "0.0 -0.0 0.8185259282366645\n",
            "0.0 -0.0 0.08555417576768354\n",
            "0.0 -0.0 0.3159546968757081\n",
            "1.0 -0.0 0.1228929678801165\n",
            "0.0 -5.917935047910101 0.33375840608833784\n",
            "0.0 9.531823811997803 0.4807198468217475\n",
            "0.0 -6.825873377641712 0.4632992983299238\n",
            "0.0 0 0.6738170357952293\n",
            "0.0 -0.0 0.08784200443751045\n",
            "0.0 -0.0 0.3917355826213451\n",
            "0.0 -0.0 0.8185259282366645\n",
            "0.0 -0.0 0.08555417576768354\n",
            "0.0 -0.0 0.3159546968757081\n",
            "0.0 -0.0 0.1228929678801165\n",
            "1.0 -0.0 0.33375840608833784\n",
            "0.0 -2.815138132869645 0.4807198468217475\n",
            "0.0 0.8285033097145691 0.4632992983299238\n",
            "0.0 0 0.6738170357952293\n",
            "0.0 -0.0 0.08784200443751045\n",
            "0.0 -0.0 0.3917355826213451\n",
            "0.0 -0.0 0.8185259282366645\n",
            "0.0 -0.0 0.08555417576768354\n",
            "0.0 -0.0 0.3159546968757081\n",
            "0.0 -0.0 0.1228929678801165\n",
            "0.0 -0.0 0.33375840608833784\n",
            "1.0 -0.0 0.4807198468217475\n",
            "0.0 -0.47338534255516096 0.4632992983299238\n",
            "0.0 0 0.6738170357952293\n",
            "0.0 -0.0 0.08784200443751045\n",
            "0.0 -0.0 0.3917355826213451\n",
            "0.0 -0.0 0.8185259282366645\n",
            "0.0 -0.0 0.08555417576768354\n",
            "0.0 -0.0 0.3159546968757081\n",
            "0.0 -0.0 0.1228929678801165\n",
            "0.0 -0.0 0.33375840608833784\n",
            "0.0 -0.0 0.4807198468217475\n",
            "1.0 -0.0 0.4632992983299238\n"
          ]
        }
      ]
    },
    {
      "cell_type": "code",
      "source": [
        "A@B"
      ],
      "metadata": {
        "colab": {
          "base_uri": "https://localhost:8080/"
        },
        "id": "3VIHgKpJacFk",
        "outputId": "317eea03-5388-4e54-8549-541483208f97"
      },
      "execution_count": null,
      "outputs": [
        {
          "output_type": "execute_result",
          "data": {
            "text/plain": [
              "array([[ 1., -0., -0., -0., -0.,  0.,  0.,  0., -0.,  0.],\n",
              "       [ 0.,  1.,  0., -0.,  0.,  0.,  0.,  0., -0., -0.],\n",
              "       [ 0.,  0.,  1., -0., -0.,  0., -0., -0., -0., -0.],\n",
              "       [ 0.,  0.,  0.,  1., -0.,  0.,  0., -0.,  0.,  0.],\n",
              "       [ 0.,  0.,  0.,  0.,  1., -0.,  0., -0., -0., -0.],\n",
              "       [ 0.,  0.,  0.,  0.,  0.,  1., -0.,  0.,  0., -0.],\n",
              "       [ 0.,  0.,  0.,  0.,  0.,  0.,  1., -0.,  0., -0.],\n",
              "       [ 0.,  0.,  0.,  0.,  0.,  0.,  0.,  1.,  0., -0.],\n",
              "       [ 0.,  0.,  0.,  0.,  0.,  0.,  0.,  0.,  1.,  0.],\n",
              "       [ 0.,  0.,  0.,  0.,  0.,  0.,  0.,  0.,  0.,  1.]])"
            ]
          },
          "metadata": {},
          "execution_count": 64
        }
      ]
    },
    {
      "cell_type": "code",
      "source": [
        "Ainv=la.inv(A)\n",
        "np.allclose(B,Ainv)"
      ],
      "metadata": {
        "colab": {
          "base_uri": "https://localhost:8080/"
        },
        "id": "nALnnjhlkVnH",
        "outputId": "bf08f5d9-8ce3-42a5-97ab-95704017c0f7"
      },
      "execution_count": null,
      "outputs": [
        {
          "output_type": "execute_result",
          "data": {
            "text/plain": [
              "True"
            ]
          },
          "metadata": {},
          "execution_count": 65
        }
      ]
    }
  ]
}